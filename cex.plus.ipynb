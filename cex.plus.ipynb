{
 "cells": [
  {
   "cell_type": "code",
   "execution_count": 1,
   "metadata": {},
   "outputs": [],
   "source": [
    "import requests\n",
    "session=requests.session()"
   ]
  },
  {
   "cell_type": "code",
   "execution_count": 4,
   "metadata": {},
   "outputs": [],
   "source": [
    "#返回空代表用户存在\n",
    "rep=session.post(\"http://cex.plus/Login/check_user.html\",{'account':'228877644@qq.com'}).text"
   ]
  },
  {
   "cell_type": "code",
   "execution_count": 5,
   "metadata": {},
   "outputs": [
    {
     "data": {
      "text/plain": [
       "'{\"status\":2,\"info\":\"\\\\u767b\\\\u9646\\\\u6210\\\\u529f\",\"url\":\"\\\\/Safe\\\\/index.html\"}'"
      ]
     },
     "execution_count": 5,
     "metadata": {},
     "output_type": "execute_result"
    }
   ],
   "source": [
    "rep=session.post('http://cex.plus/Login/checkLog.html',{'account':'228877644@qq.com','pwd':'zaq12wsx','captcha':'','checkbox':'on'}).text\n",
    "rep"
   ]
  },
  {
   "cell_type": "code",
   "execution_count": 7,
   "metadata": {},
   "outputs": [
    {
     "name": "stdout",
     "output_type": "stream",
     "text": [
      "{'status': 2, 'info': '登陆成功', 'url': '/Safe/index.html'}\n"
     ]
    }
   ],
   "source": [
    "import json\n",
    "print(json.loads(rep))"
   ]
  },
  {
   "cell_type": "code",
   "execution_count": 11,
   "metadata": {},
   "outputs": [
    {
     "ename": "SyntaxError",
     "evalue": "invalid syntax (<ipython-input-11-bb48a81388c4>, line 4)",
     "output_type": "error",
     "traceback": [
      "\u001b[0;36m  File \u001b[0;32m\"<ipython-input-11-bb48a81388c4>\"\u001b[0;36m, line \u001b[0;32m4\u001b[0m\n\u001b[0;31m    async with websockets.connect(\"ws://cex.plus/ws/huobipro\") as websocket:\u001b[0m\n\u001b[0m             ^\u001b[0m\n\u001b[0;31mSyntaxError\u001b[0m\u001b[0;31m:\u001b[0m invalid syntax\n"
     ]
    }
   ],
   "source": [
    "import asyncio\n",
    "import websockets\n",
    "async def huobi_websocket():\n",
    "    async with websockets.connect(\"ws://cex.plus/ws/huobipro\") as websocket:\n",
    "        await websocket.send(name)\n",
    "        while 1:\n",
    "            rep=await websocket.recv()\n",
    "            print(rep)\n",
    "asyncio.get_event_loop().run_until_complete(huobi_websocket())\n"
   ]
  },
  {
   "cell_type": "code",
   "execution_count": null,
   "metadata": {},
   "outputs": [],
   "source": []
  }
 ],
 "metadata": {
  "kernelspec": {
   "display_name": "Django Shell-Plus",
   "language": "python",
   "name": "django_extensions"
  },
  "language_info": {
   "codemirror_mode": {
    "name": "ipython",
    "version": 3
   },
   "file_extension": ".py",
   "mimetype": "text/x-python",
   "name": "python",
   "nbconvert_exporter": "python",
   "pygments_lexer": "ipython3",
   "version": "3.6.0"
  }
 },
 "nbformat": 4,
 "nbformat_minor": 2
}
